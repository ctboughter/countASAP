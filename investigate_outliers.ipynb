{
 "cells": [
  {
   "cell_type": "code",
   "execution_count": 1,
   "metadata": {},
   "outputs": [],
   "source": [
    "import anndata\n",
    "import numpy as np\n",
    "#import scanpy as sc\n",
    "\n",
    "from Bio import Seq\n",
    "from Bio import SeqIO\n",
    "import pandas\n",
    "import matplotlib.pyplot as pl\n",
    "import rapidfuzz as fuzz\n",
    "from rapidfuzz.distance import Hamming\n",
    "from rapidfuzz.distance import Levenshtein\n",
    "import glob\n",
    "import argparse\n",
    "import gzip"
   ]
  },
  {
   "cell_type": "markdown",
   "metadata": {},
   "source": [
    "# This is now the proper code for CountASAP as of 06/09/25\n",
    "- I had been dealing with old code and it unsurprisingly didn't work out..."
   ]
  },
  {
   "cell_type": "code",
   "execution_count": 1,
   "metadata": {},
   "outputs": [],
   "source": [
    "# This is the path for trying out the ASAPseq data\n",
    "#asapPath = '/home/bizon/Desktop/projects/darpa_project/data/asap_yfv_3001/asapSeq_barcodes.csv'\n",
    "#pandas.read_csv(asapPath)"
   ]
  },
  {
   "cell_type": "markdown",
   "metadata": {},
   "source": [
    "# All of this was stolen directly from the asap_process script\n",
    "If anything is changed in here, make sure I make a note of it and change it in the OG!!!"
   ]
  },
  {
   "cell_type": "code",
   "execution_count": null,
   "metadata": {},
   "outputs": [],
   "source": [
    "countASAP -cr MYPATH/citeR1.fastq -br MYPATH/citeR2.fastq -wl MYPATH/d101_barcodes.csv -ref MYPATH/citeSeq_codes.csv -awl False --assay CITE"
   ]
  },
  {
   "cell_type": "code",
   "execution_count": 2,
   "metadata": {},
   "outputs": [],
   "source": [
    "\n",
    "r2N= 'CITEseq/CSYGXD101_S41_L004_R1_001.fastq'\n",
    "r3N = 'CITEseq/CSYGXD101_S41_L004_R2_001.fastq'\n",
    "whitelist = 'CITEseq/d101_barcodes.csv'\n",
    "# reference = codePath and is asapSeq_barcodes.csv\n",
    "codePath = 'CITEseq/citeSeq_codes.csv' # NOTE: BAD EXPLANATION OF VARIABLE IN HELP\n",
    "outName = 'test_l4_out.csv'\n",
    "cell_mismatch_tol = 1\n",
    "barcode_percent_match = 0.95\n",
    "procs = -1\n",
    "from_atac = 'False'\n",
    "assay = 'CITE'\n",
    "# Need to see what that one is\n",
    "drop_exact_UMI = 'True'\n",
    "\n",
    "# Data num is important if we need to auto-load in files.\n",
    "# Again, leave this here in case I want to automate this\n",
    "# script a bit more generally, but \n",
    "#data_num = asapDir[-4:-1]\n",
    "\n",
    "# Change the code to now allow for loading in GZIP files\n",
    "if r2N.find('.gz') != -1:\n",
    "    with gzip.open(r2N, \"rt\") as handle:\n",
    "        r2 = list(SeqIO.parse(handle, \"fastq\"))\n",
    "else:\n",
    "    r2 = list(SeqIO.parse(r2N, \"fastq\"))\n",
    "\n",
    "if r3N.find('.gz') != -1:\n",
    "    with gzip.open(r3N, \"rt\") as handle:\n",
    "        r3 = list(SeqIO.parse(handle, \"fastq\"))\n",
    "else:\n",
    "    r3 = list(SeqIO.parse(r3N, \"fastq\"))\n",
    "    \n",
    "\n",
    "# This will work for r1, r2, or r3\n",
    "# Get the read id for every single sample\n",
    "# Can add this as an option for users if we want, but this was really just an artifact\n",
    "# of making sure that our data was properly deposited... For now don't support\n",
    "check_id = False\n",
    "if check_id:\n",
    "    uniq_id = [a.name[-14:] for a in r2]\n",
    "    id_df = pandas.DataFrame(uniq_id)\n",
    "\n",
    "    uniq_i2 = [a.name[-14:] for a in r3]\n",
    "    id_df2 = pandas.DataFrame(uniq_i2)\n",
    "\n",
    "    print(id_df.equals(id_df2))"
   ]
  },
  {
   "cell_type": "code",
   "execution_count": 3,
   "metadata": {},
   "outputs": [],
   "source": [
    "\n",
    "seq2 = [str(a.seq) for a in r2]\n",
    "# Need to be better about clearing memory as we go\n",
    "r2 = []\n",
    "\n",
    "asap_barcodes = pandas.read_csv(codePath)\n",
    "#colnames = [[a][0][3:] for a in asap_barcodes['name'].values]\n",
    "# I HATE doing things this way but the python parser makes it a pain to pass T/F statements\n",
    "if from_atac.lower()=='true':\n",
    "    atac = anndata.read_h5ad(whitelist)\n",
    "    barcodes = atac.obs_names\n",
    "else:\n",
    "    barcodes_temp = pandas.read_csv(whitelist,header=0)\n",
    "    barcodes = [a[0] for a in barcodes_temp.values]\n",
    "\n",
    "index_list = []"
   ]
  },
  {
   "cell_type": "code",
   "execution_count": 4,
   "metadata": {},
   "outputs": [],
   "source": [
    "# Initialization things, dont need to change any of these...\n",
    "##########################################################################\n",
    "# Could parallelize this as well if it is slow...\n",
    "# pretty fast though. Even with 10k cells its less than a second\n",
    "# List of CellIDs\n",
    "comp_list = []\n",
    "for xx in barcodes:\n",
    "    if assay.lower() == 'asap':\n",
    "        comp_list = comp_list + [str(Seq.Seq(xx[:-2]).reverse_complement())]\n",
    "    elif assay.lower() == 'cite':\n",
    "        # Note, you dont need the reverse complement for citeSeq\n",
    "        comp_list = comp_list + [xx[:-2]]\n",
    "\n",
    "#  Convert barcodes to a string\n",
    "checkList = asap_barcodes['sequence'].values\n",
    "\n",
    "# How we gonna chunk up our sequences?\n",
    "# If you are well over 100k sequences, you gotta chunk up \n",
    "if len(seq2) > 1*10**5:\n",
    "    num_fact = np.ceil(len(seq2)/10**5)\n",
    "    chunkers = int(np.ceil(len(seq2)/num_fact))\n",
    "    chunk_list = []\n",
    "    for chunker in np.arange(int(num_fact)):\n",
    "        chunk_list = chunk_list + [[chunkers*chunker,chunkers*(chunker+1)]]\n",
    "\n",
    "cell_mismatch = len(comp_list[0])-cell_mismatch_tol\n",
    "fin_cellMatch = []; test_mismatch = False\n",
    "#dup_match = []\n",
    "pre_len = 0"
   ]
  },
  {
   "cell_type": "markdown",
   "metadata": {},
   "source": [
    "# So this block of code was MUCH slower with Levenshtein distance\n",
    "- Took 12 minutes to process 3 out of 40 blocks, while Hamming does all 40 in 6 minutes\n",
    "- I think it's because the \"score cutoff\" needs to be changed when using a different metric\n",
    "- Obviously the different scorers will give... different scores. \n",
    "- Reviewer was right, I think it turns out. Levenshtein IS much more permissive"
   ]
  },
  {
   "cell_type": "code",
   "execution_count": 7,
   "metadata": {},
   "outputs": [],
   "source": [
    "    x=fuzz.process.cdist(sub_seq2,comp_list,scorer=Hamming.similarity,score_cutoff=cell_mismatch,workers=procs)\n",
    "    # Looks like this \"nonzero\" function might be a fast way to sort\n",
    "    # reads to their respective cell identifiers\n",
    "    matched_cell_coords = x.nonzero()"
   ]
  },
  {
   "cell_type": "code",
   "execution_count": 8,
   "metadata": {},
   "outputs": [],
   "source": [
    "x2=fuzz.process.cdist(sub_seq2,comp_list,scorer=Levenshtein.similarity,score_cutoff=cell_mismatch,workers=procs)\n",
    "# Looks like this \"nonzero\" function might be a fast way to sort\n",
    "# reads to their respective cell identifiers\n",
    "matched_cell_coords2 = x2.nonzero()"
   ]
  },
  {
   "cell_type": "code",
   "execution_count": 16,
   "metadata": {},
   "outputs": [
    {
     "data": {
      "text/plain": [
       "33410"
      ]
     },
     "execution_count": 16,
     "metadata": {},
     "output_type": "execute_result"
    }
   ],
   "source": [
    "len(matched_cell_coords[1])"
   ]
  },
  {
   "cell_type": "code",
   "execution_count": 17,
   "metadata": {},
   "outputs": [
    {
     "data": {
      "text/plain": [
       "14632964"
      ]
     },
     "execution_count": 17,
     "metadata": {},
     "output_type": "execute_result"
    }
   ],
   "source": [
    "len(matched_cell_coords2[1])"
   ]
  },
  {
   "cell_type": "code",
   "execution_count": 35,
   "metadata": {},
   "outputs": [],
   "source": [
    "import time"
   ]
  },
  {
   "cell_type": "code",
   "execution_count": 36,
   "metadata": {},
   "outputs": [
    {
     "data": {
      "text/plain": [
       "1749848877.86307"
      ]
     },
     "execution_count": 36,
     "metadata": {},
     "output_type": "execute_result"
    }
   ],
   "source": [
    "time.time()"
   ]
  },
  {
   "cell_type": "code",
   "execution_count": 6,
   "metadata": {},
   "outputs": [
    {
     "name": "stdout",
     "output_type": "stream",
     "text": [
      "finished cell chunk 0/40.0\n",
      "finished cell chunk 1/40.0\n",
      "finished cell chunk 2/40.0\n",
      "finished cell chunk 3/40.0\n",
      "finished cell chunk 4/40.0\n",
      "finished cell chunk 5/40.0\n",
      "finished cell chunk 6/40.0\n",
      "finished cell chunk 7/40.0\n",
      "finished cell chunk 8/40.0\n",
      "finished cell chunk 9/40.0\n",
      "finished cell chunk 10/40.0\n",
      "finished cell chunk 11/40.0\n",
      "finished cell chunk 12/40.0\n",
      "finished cell chunk 13/40.0\n",
      "finished cell chunk 14/40.0\n",
      "finished cell chunk 15/40.0\n",
      "finished cell chunk 16/40.0\n",
      "finished cell chunk 17/40.0\n",
      "finished cell chunk 18/40.0\n",
      "finished cell chunk 19/40.0\n",
      "finished cell chunk 20/40.0\n",
      "finished cell chunk 21/40.0\n",
      "finished cell chunk 22/40.0\n",
      "finished cell chunk 23/40.0\n",
      "finished cell chunk 24/40.0\n",
      "finished cell chunk 25/40.0\n",
      "finished cell chunk 26/40.0\n",
      "finished cell chunk 27/40.0\n",
      "finished cell chunk 28/40.0\n",
      "finished cell chunk 29/40.0\n",
      "finished cell chunk 30/40.0\n",
      "finished cell chunk 31/40.0\n",
      "finished cell chunk 32/40.0\n",
      "finished cell chunk 33/40.0\n",
      "finished cell chunk 34/40.0\n",
      "finished cell chunk 35/40.0\n",
      "finished cell chunk 36/40.0\n",
      "finished cell chunk 37/40.0\n",
      "finished cell chunk 38/40.0\n",
      "finished cell chunk 39/40.0\n"
     ]
    }
   ],
   "source": [
    "for chunk in np.arange(int(num_fact)):\n",
    "    sub_seq2 = seq2[chunk_list[chunk][0]:chunk_list[chunk][1]]\n",
    "    x=fuzz.process.cdist(sub_seq2,comp_list,scorer=Hamming.similarity,score_cutoff=cell_mismatch,workers=procs)\n",
    "    # Looks like this \"nonzero\" function might be a fast way to sort\n",
    "    # reads to their respective cell identifiers\n",
    "    matched_cell_coords = x.nonzero()\n",
    "    # Drop x for memory\n",
    "    x = []\n",
    "    print('finished cell chunk ' + str(chunk) + \"/\" + str(num_fact))\n",
    "    temptemp = np.transpose(pandas.DataFrame(matched_cell_coords))\n",
    "    # Control for memory...\n",
    "    matched_cell_coords = []\n",
    "    # What this \"drop_duplicates\" is doing is dropping those reads that have ambiguous assignments\n",
    "    # i.e. one read is being assigned to two barcodes (or more than two)\n",
    "    cell_matched_reads = temptemp.drop_duplicates(0)#.values # Used to turn it into values, now turn it into DF.\n",
    "    #if save_dups:\n",
    "    #    dup_match = dup_match + temptemp[temptemp.duplicated(0,keep=\"first\")].values\n",
    "    # Our read index is resetting every time, so we have to add the chunk list in...\n",
    "    temptemp = []\n",
    "    umi_dropped = []\n",
    "    #print('starting umiDrop')\n",
    "    holder = 0\n",
    "    if drop_exact_UMI.lower() == 'true':\n",
    "        # This is obviously much faster than iterating through all \n",
    "        umi_drop= pandas.DataFrame(np.array(sub_seq2)[cell_matched_reads[0].values]).drop_duplicates()\n",
    "        new_matched_reads=cell_matched_reads.iloc[umi_drop.index].values\n",
    "        cell_matched_reads = []\n",
    "        umi_drop = []\n",
    "    else:\n",
    "        # So this is WILDLY slow. Need to do something about that...\n",
    "        # I could probably remove the FOR loop and just change the scoring of the CDIST\n",
    "        # function??? Yea that's probably the best option...\n",
    "        for refSeq in cell_matched_reads[1].drop_duplicates().values:\n",
    "            umiCheck = cell_matched_reads[cell_matched_reads[1]==refSeq]\n",
    "            if len(umiCheck) < 2:\n",
    "                #print('they do exist!')\n",
    "                continue\n",
    "            # Need to reset the indices of the sequences so we know which to drop from the UMIs...\n",
    "            seqCheck = np.array(sub_seq2)[umiCheck[0].values]\n",
    "            UMIs = [a[16:] for a in seqCheck]\n",
    "\n",
    "            x=fuzz.process.cdist(UMIs,UMIs,scorer=Hamming.similarity,score_cutoff=len(UMIs[0])-1,workers=procs)\n",
    "            np.fill_diagonal(x,0)\n",
    "            # Alright there probably won't be that many of these, lets do some slow coding.\n",
    "            pair_dups = np.vstack((x.nonzero()))\n",
    "            if np.shape(pair_dups)[1] == 0:\n",
    "                findup = pair_dups[0]\n",
    "            else:\n",
    "                redup = []\n",
    "                for j in np.arange(np.shape(pair_dups)[1]):\n",
    "                    n1 = pair_dups[0,j]\n",
    "                    n2 = pair_dups[1,j]\n",
    "                    if n1 > n2:\n",
    "                        redup = redup + [[n1,n2]]\n",
    "                    else:\n",
    "                        redup = redup + [[n2,n1]]\n",
    "\n",
    "                # Two drop duplicates here. First delete duplicate PAIRS, then delete duplicate ENTRIES\n",
    "                findup = pandas.DataFrame(redup).drop_duplicates().iloc[:,0].drop_duplicates().values\n",
    "            \n",
    "            temperDF = umiCheck.reset_index(drop=True)\n",
    "            temperDF = temperDF.drop(findup,axis=0)\n",
    "            umi_dropped = umi_dropped + [temperDF.values]\n",
    "            holder+=1\n",
    "            if holder % 100 == 0:\n",
    "                print(holder/len(cell_matched_reads[1].drop_duplicates()))\n",
    "        new_matched_reads = np.concatenate(umi_dropped)\n",
    "    ###########################################################\n",
    "\n",
    "    new_matched_reads[:,0] = new_matched_reads[:,0] + pre_len\n",
    "\n",
    "    pre_len = pre_len + len(sub_seq2)\n",
    "\n",
    "    fin_cellMatch = fin_cellMatch + [new_matched_reads]\n",
    "    new_matched_reads = []\n",
    "\n",
    "    if test_mismatch:\n",
    "        # so with 1bp mismatch we have ~140 duplicates in over a million reads... Pretty good\n",
    "        nonZero_len = len(matched_cell_coords)\n",
    "        singlet_len = len(cell_matched_reads)\n",
    "        frac_doubCount_cellID = (nonZero_len-singlet_len)/len(sub_seq2)"
   ]
  },
  {
   "cell_type": "code",
   "execution_count": 52,
   "metadata": {},
   "outputs": [
    {
     "name": "stdout",
     "output_type": "stream",
     "text": [
      "finished barcode chunk 0/40.0\n",
      "finished barcode chunk 1/40.0\n",
      "finished barcode chunk 2/40.0\n",
      "finished barcode chunk 3/40.0\n",
      "finished barcode chunk 4/40.0\n",
      "finished barcode chunk 5/40.0\n",
      "finished barcode chunk 6/40.0\n",
      "finished barcode chunk 7/40.0\n",
      "finished barcode chunk 8/40.0\n",
      "finished barcode chunk 9/40.0\n",
      "finished barcode chunk 10/40.0\n",
      "finished barcode chunk 11/40.0\n",
      "finished barcode chunk 12/40.0\n",
      "finished barcode chunk 13/40.0\n",
      "finished barcode chunk 14/40.0\n",
      "finished barcode chunk 15/40.0\n",
      "finished barcode chunk 16/40.0\n",
      "finished barcode chunk 17/40.0\n",
      "finished barcode chunk 18/40.0\n",
      "finished barcode chunk 19/40.0\n",
      "finished barcode chunk 20/40.0\n",
      "finished barcode chunk 21/40.0\n",
      "finished barcode chunk 22/40.0\n",
      "finished barcode chunk 23/40.0\n",
      "finished barcode chunk 24/40.0\n",
      "finished barcode chunk 25/40.0\n",
      "finished barcode chunk 26/40.0\n",
      "finished barcode chunk 27/40.0\n",
      "finished barcode chunk 28/40.0\n",
      "finished barcode chunk 29/40.0\n",
      "finished barcode chunk 30/40.0\n",
      "finished barcode chunk 31/40.0\n",
      "finished barcode chunk 32/40.0\n",
      "finished barcode chunk 33/40.0\n",
      "finished barcode chunk 34/40.0\n",
      "finished barcode chunk 35/40.0\n",
      "finished barcode chunk 36/40.0\n",
      "finished barcode chunk 37/40.0\n",
      "finished barcode chunk 38/40.0\n",
      "finished barcode chunk 39/40.0\n"
     ]
    }
   ],
   "source": [
    "seq2 = []\n",
    "barcode_mismatch = 100*barcode_percent_match\n",
    "fin_barcodeMatch = []\n",
    "pre_len = 0\n",
    "r3 = list(SeqIO.parse(r3N, \"fastq\"))\n",
    "seq3 = [str(a.seq) for a in r3]\n",
    "r3 = []\n",
    "for chunk in np.arange(int(num_fact)):\n",
    "    sub_seq3 = seq3[chunk_list[chunk][0]:chunk_list[chunk][1]]\n",
    "    zzz=fuzz.process.cdist(checkList,sub_seq3,scorer=fuzz.fuzz.partial_ratio,score_cutoff=barcode_mismatch,workers=procs)\n",
    "    matched_code_coords = zzz.nonzero()\n",
    "    barcode_matched_reads = np.transpose(pandas.DataFrame(matched_code_coords)).drop_duplicates(1).values\n",
    "\n",
    "    barcode_matched_reads[:,1] = barcode_matched_reads[:,1] + pre_len\n",
    "\n",
    "    pre_len = pre_len + len(sub_seq3)\n",
    "\n",
    "    fin_barcodeMatch = fin_barcodeMatch + [barcode_matched_reads]\n",
    "    print('finished barcode chunk ' + str(chunk) + \"/\" + str(num_fact))\n",
    "\n",
    "    if test_mismatch:\n",
    "        # so with 1bp mismatch we have ~140 duplicates in over a million reads... Pretty good\n",
    "        nonZero_len = len(matched_code_coords)\n",
    "        singlet_len = len(barcode_matched_reads)\n",
    "        frac_doubCount_barcode = (nonZero_len-singlet_len)/len(sub_seq3)\n",
    "        dup_match_cell = dup_match_cell + [frac_doubCount_barcode]\n",
    "\n",
    "# Final data processing..."
   ]
  },
  {
   "cell_type": "code",
   "execution_count": 53,
   "metadata": {},
   "outputs": [],
   "source": [
    "for i in np.arange(len(fin_barcodeMatch)):\n",
    "    if i == 0:\n",
    "        barcodeF = fin_barcodeMatch[i]\n",
    "    else:\n",
    "        barcodeF = np.vstack((barcodeF,fin_barcodeMatch[i]))\n",
    "\n",
    "for i in np.arange(len(fin_cellMatch)):\n",
    "    if i == 0:\n",
    "        cellF = fin_cellMatch[i]\n",
    "    else:\n",
    "        cellF = np.vstack((cellF,fin_cellMatch[i]))\n",
    "\n",
    "cellDF = pandas.DataFrame(cellF)\n",
    "barcodeDF = pandas.DataFrame(barcodeF)\n",
    "\n",
    "# Now do some tricks with pandas DataFrames!!\n",
    "barcodeDF.index = barcodeDF[1].values\n",
    "transform_code = barcodeDF[0]\n",
    "\n",
    "cellDF.index = cellDF[0].values\n",
    "transform_cell = cellDF[1]\n",
    "\n",
    "# Can maybe at some point looking into counting how many reads drop out here\n",
    "matched_reads = pandas.concat([transform_cell,transform_code],axis=1).dropna()"
   ]
  },
  {
   "cell_type": "code",
   "execution_count": 54,
   "metadata": {},
   "outputs": [],
   "source": [
    "\n",
    "# I can parallelize this if its real slow...\n",
    "# but even for 6 million reads it took 50 seconds on a laptop...\n",
    "fin_count = np.zeros([len(barcodes),len(asap_barcodes)])\n",
    "for i in np.arange(len(matched_reads)):\n",
    "    a,b = matched_reads.values[i]\n",
    "    fin_count[int(a),int(b)] += 1\n",
    "\n",
    "finDF = pandas.DataFrame(fin_count)\n",
    "\n",
    "formatted_label = []; ii = 1\n",
    "for a in asap_barcodes['name'].values:\n",
    "    if a.find('Isotype') != -1:\n",
    "        formatted_label = formatted_label + ['Isotype' + str(ii)]\n",
    "    else:\n",
    "        findDot = a.find('.')\n",
    "        formatted_label = formatted_label + [a[findDot+1:]]\n",
    "\n",
    "finDF.columns = formatted_label\n",
    "finDF.index = barcodes\n",
    "\n",
    "finDF.to_csv(outName)"
   ]
  },
  {
   "cell_type": "code",
   "execution_count": 18,
   "metadata": {},
   "outputs": [
    {
     "data": {
      "text/plain": [
       "1184020.0"
      ]
     },
     "execution_count": 18,
     "metadata": {},
     "output_type": "execute_result"
    }
   ],
   "source": [
    "np.sum(np.sum(finDF))"
   ]
  },
  {
   "cell_type": "code",
   "execution_count": null,
   "metadata": {},
   "outputs": [],
   "source": [
    "pl.imshow(finDF,aspect='auto',interpolation='nearest',vmin=0,vmax=10)"
   ]
  },
  {
   "cell_type": "code",
   "execution_count": 55,
   "metadata": {},
   "outputs": [],
   "source": [
    "cellRanger_comp = pandas.read_csv('CITEseq/cellRanger_countMat101.csv',index_col=0)\n",
    "\n",
    "l1 = pandas.read_csv('test_l1_out.csv',index_col=0)\n",
    "l2 = pandas.read_csv('test_l2_out.csv',index_col=0)\n",
    "l3 = pandas.read_csv('test_l3_out.csv',index_col=0)\n",
    "l4 = pandas.read_csv('test_l4_out.csv',index_col=0)"
   ]
  },
  {
   "cell_type": "code",
   "execution_count": 57,
   "metadata": {},
   "outputs": [],
   "source": [
    "sumLanes = l1+l2+l3+l4"
   ]
  },
  {
   "cell_type": "code",
   "execution_count": 61,
   "metadata": {},
   "outputs": [],
   "source": [
    "x= cellRanger_comp.values.reshape(210*24637)"
   ]
  },
  {
   "cell_type": "markdown",
   "metadata": {},
   "source": [
    "# Don't forget, we have four lanes that we need to sum up"
   ]
  },
  {
   "cell_type": "code",
   "execution_count": 60,
   "metadata": {},
   "outputs": [],
   "source": [
    "y = np.transpose(sumLanes).values.reshape(210*24637)"
   ]
  },
  {
   "cell_type": "markdown",
   "metadata": {},
   "source": [
    "# Alright cool so we can exactly reproduce what is in the paper"
   ]
  },
  {
   "cell_type": "code",
   "execution_count": 94,
   "metadata": {},
   "outputs": [
    {
     "data": {
      "text/plain": [
       "(0.0, 10000.0)"
      ]
     },
     "execution_count": 94,
     "metadata": {},
     "output_type": "execute_result"
    },
    {
     "data": {
      "image/png": "[encoded data removed]",
      "text/plain": [
       "<Figure size 640x480 with 1 Axes>"
      ]
     },
     "metadata": {},
     "output_type": "display_data"
    }
   ],
   "source": [
    "pl.scatter(x,y)\n",
    "pl.plot(np.arange(40000),np.arange(40000),color='red')\n",
    "pl.ylim([0,10000])\n",
    "pl.xlim([0,10000])"
   ]
  },
  {
   "cell_type": "code",
   "execution_count": 93,
   "metadata": {},
   "outputs": [
    {
     "data": {
      "text/plain": [
       "2.5126745100767913e-06"
      ]
     },
     "execution_count": 93,
     "metadata": {},
     "output_type": "execute_result"
    }
   ],
   "source": [
    "13/len(x)"
   ]
  },
  {
   "cell_type": "code",
   "execution_count": 70,
   "metadata": {},
   "outputs": [
    {
     "name": "stdout",
     "output_type": "stream",
     "text": [
      "Hashtag_1\n",
      "Hashtag_2\n",
      "Hashtag_3\n",
      "Hashtag_4\n",
      "Hashtag_5\n"
     ]
    }
   ],
   "source": [
    "for i in sumLanes.columns:\n",
    "    sub = sumLanes[i][sumLanes[i] > 10000]\n",
    "    if len(sub) > 0:\n",
    "        print(i)"
   ]
  },
  {
   "cell_type": "code",
   "execution_count": 92,
   "metadata": {},
   "outputs": [
    {
     "data": {
      "text/plain": [
       "13"
      ]
     },
     "execution_count": 92,
     "metadata": {},
     "output_type": "execute_result"
    }
   ],
   "source": [
    "7+2+2+1+1"
   ]
  },
  {
   "cell_type": "code",
   "execution_count": 91,
   "metadata": {},
   "outputs": [
    {
     "data": {
      "text/plain": [
       "1"
      ]
     },
     "execution_count": 91,
     "metadata": {},
     "output_type": "execute_result"
    }
   ],
   "source": [
    "len(sumLanes[sumLanes['Hashtag_1'] > 10000])"
   ]
  },
  {
   "cell_type": "code",
   "execution_count": 2,
   "metadata": {},
   "outputs": [],
   "source": [
    "import matplotlib.pyplot as pl"
   ]
  },
  {
   "cell_type": "markdown",
   "metadata": {},
   "source": [
    "# Huh clearly asymptotic in our benchmarking (not good)\n",
    "- Probably ways that I can try to optimize that, but not worth it at the moment\n",
    "- "
   ]
  },
  {
   "cell_type": "code",
   "execution_count": 3,
   "metadata": {},
   "outputs": [
    {
     "data": {
      "text/plain": [
       "[<matplotlib.lines.Line2D at 0x7f358bf7a3d0>]"
      ]
     },
     "execution_count": 3,
     "metadata": {},
     "output_type": "execute_result"
    },
    {
     "data": {
      "image/png": "[encoded data removed]",
      "text/plain": [
       "<Figure size 640x480 with 1 Axes>"
      ]
     },
     "metadata": {},
     "output_type": "display_data"
    }
   ],
   "source": [
    "cores = [1,3,6,9,18,27,36]\n",
    "times = [2328.68, 1107.76, 782.632, 673.81, 570.68, 572.23, 568.93]\n",
    "\n",
    "pl.plot(cores,times)"
   ]
  }
 ],
 "metadata": {
  "kernelspec": {
   "display_name": "asap",
   "language": "python",
   "name": "asap"
  },
  "language_info": {
   "codemirror_mode": {
    "name": "ipython",
    "version": 3
   },
   "file_extension": ".py",
   "mimetype": "text/x-python",
   "name": "python",
   "nbconvert_exporter": "python",
   "pygments_lexer": "ipython3",
   "version": "3.8.19"
  }
 },
 "nbformat": 4,
 "nbformat_minor": 2
}
