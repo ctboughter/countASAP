{
 "cells": [
  {
   "cell_type": "markdown",
   "metadata": {},
   "source": [
    "# The goal here is to put all of our mapping calls in one place\n",
    "- It is all bash scripting, but I think putting the code into a notebook is visually helpful\n",
    "- Hopefully breaking things down into cells will make it more clear what is what"
   ]
  },
  {
   "cell_type": "markdown",
   "metadata": {},
   "source": [
    "# Code Used for Running CountASAP for ASAPseq data:"
   ]
  },
  {
   "cell_type": "code",
   "execution_count": null,
   "metadata": {
    "vscode": {
     "languageId": "plaintext"
    }
   },
   "outputs": [],
   "source": [
    "%%bash\n",
    "# Need the awl True here to say we are directly pulling barcodes from\n",
    "# the given whitelist (specifically h5ad)\n",
    "# If using whitelist_ex.csv as -wl, set -awl False\n",
    "\n",
    "#python asap_process.py \\\n",
    "#-cr  $datPath/ASAPYD101_S33_R2_001.fastq.gz \\\n",
    "#-br $datPath/ASAPYD101_S33_R3_001.fastq.gz \\\n",
    "#-wl ../ATACprocOut/atac_processTest.h5.h5ad \\\n",
    "#-ref ex_inputs/asapSeq_barcodes.csv \\\n",
    "#-tol 1 -mis 0.95 -proc 24 -awl True \\\n",
    "#-umi True \\\n",
    "#-out proc_ASAPtest.out > procASAPTime.out"
   ]
  },
  {
   "cell_type": "markdown",
   "metadata": {},
   "source": [
    "# Scaling on the linux machine:\n",
    "- Note: all speed benchmarking (Figure 1) was reported using Lane 4 data (not full dataset)\n",
    "- At least for countASAP, it shouldn't matter, as scaling was linear\n",
    "- Also, data was CITEseq data, since CellRanger does not support ASAPseq."
   ]
  },
  {
   "cell_type": "code",
   "execution_count": null,
   "metadata": {
    "vscode": {
     "languageId": "plaintext"
    }
   },
   "outputs": [],
   "source": [
    "%%bash\n",
    "\n",
    "for i in 1 3 6 9 18 27 36;\n",
    "do\n",
    "    python asap_process.py \\\n",
    "\t-cr  CSYGXD101_S41_L004_R1_001.fastq.gz \\\n",
    "\t-br  CSYGXD101_S41_L004_R2_001.fastq.gz \\\n",
    "\t-wl ../CITEseq/d101_barcodes.csv \\\n",
    "\t-ref ../CITEseq/citeSeq_codes.csv \\\n",
    "\t-tol 1 -mis 0.95 -proc $i -awl False \\\n",
    "\t-ass CITE -umi True \\\n",
    "\t-out proc\"$i\"_test.out > proc$i.time.out\n",
    "done"
   ]
  },
  {
   "cell_type": "markdown",
   "metadata": {},
   "source": [
    "# Same scaling, but for cellranger:"
   ]
  },
  {
   "cell_type": "code",
   "execution_count": null,
   "metadata": {
    "vscode": {
     "languageId": "plaintext"
    }
   },
   "outputs": [],
   "source": [
    "%%bash\n",
    "\n",
    "# This was done using cellranger 9.0.1\n",
    "\n",
    "for i in 1 3 6 9 18 27 36;\n",
    "do\n",
    "\t./cellranger multi --id=multi$i --csv=runRanger.csv --localcores=$i --l\n",
    "ocalmem=128 > cellRanger$i.out\n",
    "done\n"
   ]
  },
  {
   "cell_type": "code",
   "execution_count": null,
   "metadata": {
    "vscode": {
     "languageId": "plaintext"
    }
   },
   "outputs": [],
   "source": [
    "# Defining runRanger.csv here:\n",
    "# Need to have it as a separate file if you want to run it\n",
    "# Ref does not come with cellranger, needed to downlaod\n",
    "[gene-expression]\n",
    "reference,cellranger-9.0.1/refdata-gex-mm10-2020-A\n",
    "create-bam,false\n",
    "[feature]\n",
    "reference,citeSeq_codes.csv\n",
    "[libraries]\n",
    "fastq_id,fastqs,lanes,feature_types,subsample_rate\n",
    "CSYGXD101,CITEseq_surface,4,antibody capture,\n"
   ]
  },
  {
   "cell_type": "markdown",
   "metadata": {},
   "source": [
    "# Same scaling, but for kallisto\n",
    "- Also needed to run this with all 4 lanes concatenated into 1 file per read (megaR1, megaR2)\n",
    "- Also note, actually generating the idx, t2g, and barcodes_kb.csv file was actaully a bit of a pain. Documentation pretty scattered, not clear the formatting of these files"
   ]
  },
  {
   "cell_type": "code",
   "execution_count": null,
   "metadata": {
    "vscode": {
     "languageId": "plaintext"
    }
   },
   "outputs": [],
   "source": [
    "%%bash\n",
    "\n",
    "for i in 1 3 6 9 18 27 36;\n",
    "do\n",
    "\n",
    "kb count -i FeaturesMismatch.idx \\\n",
    "     -g FeaturesMismatch.t2g \\\n",
    "     --workflow kite \\\n",
    "     -x 10xv3 -o out_adt$i \\\n",
    "     -t $i -w barcodes_kb.csv \\\n",
    "      CSYGXD101_S41_L004_R1_001.fastq.gz CSYGXD101_S41_L004_R2_001.fastq.gz\n",
    "done"
   ]
  },
  {
   "cell_type": "code",
   "execution_count": null,
   "metadata": {
    "vscode": {
     "languageId": "plaintext"
    }
   },
   "outputs": [],
   "source": [
    "# Convert output mtx file to a csv for easier comparison\n",
    "from scipy.io import mmread\n",
    "from scipy.sparse import coo_matrix\n",
    "\n",
    "# Specify the path to your .mtx file\n",
    "mtx_file_path = 'out_adt18/counts_unfiltered/cells_x_features.mtx'\n",
    "\n",
    "# Read the .mtx file into a sparse matrix\n",
    "sparse_matrix = mmread(mtx_file_path)\n",
    "print(f\"Successfully loaded the MTX file: {mtx_file_path}\")\n",
    "print(f\"Matrix format: {type(sparse_matrix)}\")\n",
    "print(f\"Matrix dimensions: {sparse_matrix.shape}\")\n",
    "print(f\"Number of stored elements: {sparse_matrix.nnz}\")\n",
    "\n",
    "# You can convert the sparse matrix to a dense NumPy array if needed\n",
    "dense_array = sparse_matrix.toarray()\n",
    "\n",
    "pandas.DataFrame(dense_array).to_csv('kb_count.csv',index=False)"
   ]
  },
  {
   "cell_type": "markdown",
   "metadata": {},
   "source": [
    "# Notes on the Windows machine test capabilities:\n",
    " - 238 GB storage, 128MB graphics, 8GB RAM\n",
    " - Intel Core i5-9300H CPU - 2.4 GHz\n",
    "- 64 Bit, Windows 11 home, Dell XPS 15\n",
    " - MIGHT MAX OUT AT 4 CORES - who knows about hyperthreading..."
   ]
  },
  {
   "cell_type": "markdown",
   "metadata": {
    "vscode": {
     "languageId": "plaintext"
    }
   },
   "source": [
    "# Next up, the scale testing\n",
    "- Note: the scale of the reference is a single lane, not all 4 lanes"
   ]
  },
  {
   "cell_type": "code",
   "execution_count": null,
   "metadata": {
    "vscode": {
     "languageId": "plaintext"
    }
   },
   "outputs": [],
   "source": [
    "%%bash\n",
    "\n",
    "for i in 0.25 0.5 0.75 1.25 1.5 1.75 2;\n",
    "do\n",
    "    python asap_process.py \\\n",
    "\t-cr testr1_$i.fastq.gz \\\n",
    "\t-br testr2_$i.fastq.gz \\\n",
    "\t-wl d101_barcodes.csv \\\n",
    "\t-ref citeSeq_codes.csv \\\n",
    "\t-tol 1 -mis 0.95 -proc 24 -awl False \\\n",
    "\t-ass CITE -umi True \\\n",
    "\t-out proc\"$i\"_Scaletest.out > proc$i.ScaleTime.out\n",
    "done"
   ]
  },
  {
   "cell_type": "markdown",
   "metadata": {
    "vscode": {
     "languageId": "plaintext"
    }
   },
   "source": [
    "# Now, do the analysis on all 4 lanes at once:\n",
    "- Wanted to running lanes separate does not alter the reads\n",
    "- There are slight differences, but not significant"
   ]
  },
  {
   "cell_type": "code",
   "execution_count": null,
   "metadata": {
    "vscode": {
     "languageId": "plaintext"
    }
   },
   "outputs": [],
   "source": [
    "$$bash\n",
    "python asap_process.py \\\n",
    "-cr  $datPath/megaR1.fastq.gz \\\n",
    "-br $datPath/megaR2.fastq.gz \\\n",
    "-wl $datPath/d101_barcodes.csv \\\n",
    "-ref $datPath/citeSeq_codes.csv \\\n",
    "-tol 1 -mis 0.95 -proc 32 -awl False \\\n",
    "-ass CITE -umi True \\\n",
    "-out catLanes.out > proc.catLanes.out\n"
   ]
  },
  {
   "cell_type": "markdown",
   "metadata": {},
   "source": [
    "# Lastly, umiDrop testing:"
   ]
  },
  {
   "cell_type": "code",
   "execution_count": null,
   "metadata": {
    "vscode": {
     "languageId": "plaintext"
    }
   },
   "outputs": [],
   "source": [
    "%%bash\n",
    "# But test our umiDrop = False\n",
    "\n",
    "datPath=benchmarking/sizeTests\n",
    "\n",
    "python asap_process.py \\\n",
    "-cr  $datPath/megaR1.fastq.gz \\\n",
    "-br $datPath/megaR2.fastq.gz \\\n",
    "-wl ex_inputs/d101_barcodes.csv \\\n",
    "-ref ex_inputs/citeSeq_codes.csv \\\n",
    "-tol 1 -mis 0.95 -proc 32 -ass CITE \\\n",
    "-umi False -awl False \\\n",
    "-out proc_ASAPtest_umiDrop.csv > procASAP_umiDrop.out"
   ]
  },
  {
   "cell_type": "markdown",
   "metadata": {},
   "source": [
    "# "
   ]
  }
 ],
 "metadata": {
  "language_info": {
   "name": "python"
  }
 },
 "nbformat": 4,
 "nbformat_minor": 2
}
